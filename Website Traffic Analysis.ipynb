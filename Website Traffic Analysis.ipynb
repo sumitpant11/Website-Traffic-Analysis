{
 "cells": [
  {
   "cell_type": "markdown",
   "id": "31aa8793-465f-43ee-8805-0da94bb1e9f4",
   "metadata": {},
   "source": [
    "# Importing Libraries"
   ]
  },
  {
   "cell_type": "code",
   "execution_count": 1,
   "id": "1769d6f0-5e5d-4c80-9131-c5b547168678",
   "metadata": {},
   "outputs": [],
   "source": [
    "import numpy as np\n",
    "import pandas as pd\n",
    "import seaborn as sns\n",
    "import matplotlib.pyplot as plt"
   ]
  },
  {
   "cell_type": "markdown",
   "id": "3da3e747-9c2d-4177-aa35-772de2ec4a3a",
   "metadata": {},
   "source": [
    "# Import Dataset"
   ]
  },
  {
   "cell_type": "code",
   "execution_count": 2,
   "id": "bb0b18ee-3233-4ea5-9e0c-4480fa66b1cf",
   "metadata": {},
   "outputs": [],
   "source": [
    "df = pd.read_csv('traffic.csv')"
   ]
  },
  {
   "cell_type": "markdown",
   "id": "cdc5f9e0-86f2-4a5b-a90e-f10b79c35902",
   "metadata": {},
   "source": [
    "# Reading Dataset"
   ]
  },
  {
   "cell_type": "code",
   "execution_count": 3,
   "id": "29e93e99-bbb6-47b8-90b8-d133342524e5",
   "metadata": {},
   "outputs": [
    {
     "data": {
      "text/html": [
       "<div>\n",
       "<style scoped>\n",
       "    .dataframe tbody tr th:only-of-type {\n",
       "        vertical-align: middle;\n",
       "    }\n",
       "\n",
       "    .dataframe tbody tr th {\n",
       "        vertical-align: top;\n",
       "    }\n",
       "\n",
       "    .dataframe thead th {\n",
       "        text-align: right;\n",
       "    }\n",
       "</style>\n",
       "<table border=\"1\" class=\"dataframe\">\n",
       "  <thead>\n",
       "    <tr style=\"text-align: right;\">\n",
       "      <th></th>\n",
       "      <th>event</th>\n",
       "      <th>date</th>\n",
       "      <th>country</th>\n",
       "      <th>city</th>\n",
       "      <th>artist</th>\n",
       "      <th>album</th>\n",
       "      <th>track</th>\n",
       "      <th>isrc</th>\n",
       "      <th>linkid</th>\n",
       "    </tr>\n",
       "  </thead>\n",
       "  <tbody>\n",
       "    <tr>\n",
       "      <th>0</th>\n",
       "      <td>click</td>\n",
       "      <td>2021-08-21</td>\n",
       "      <td>Saudi Arabia</td>\n",
       "      <td>Jeddah</td>\n",
       "      <td>Tesher</td>\n",
       "      <td>Jalebi Baby</td>\n",
       "      <td>Jalebi Baby</td>\n",
       "      <td>QZNWQ2070741</td>\n",
       "      <td>2d896d31-97b6-4869-967b-1c5fb9cd4bb8</td>\n",
       "    </tr>\n",
       "    <tr>\n",
       "      <th>1</th>\n",
       "      <td>click</td>\n",
       "      <td>2021-08-21</td>\n",
       "      <td>Saudi Arabia</td>\n",
       "      <td>Jeddah</td>\n",
       "      <td>Tesher</td>\n",
       "      <td>Jalebi Baby</td>\n",
       "      <td>Jalebi Baby</td>\n",
       "      <td>QZNWQ2070741</td>\n",
       "      <td>2d896d31-97b6-4869-967b-1c5fb9cd4bb8</td>\n",
       "    </tr>\n",
       "    <tr>\n",
       "      <th>2</th>\n",
       "      <td>click</td>\n",
       "      <td>2021-08-21</td>\n",
       "      <td>India</td>\n",
       "      <td>Ludhiana</td>\n",
       "      <td>Reyanna Maria</td>\n",
       "      <td>So Pretty</td>\n",
       "      <td>So Pretty</td>\n",
       "      <td>USUM72100871</td>\n",
       "      <td>23199824-9cf5-4b98-942a-34965c3b0cc2</td>\n",
       "    </tr>\n",
       "    <tr>\n",
       "      <th>3</th>\n",
       "      <td>click</td>\n",
       "      <td>2021-08-21</td>\n",
       "      <td>France</td>\n",
       "      <td>Unknown</td>\n",
       "      <td>Simone &amp; Simaria, Sebastian Yatra</td>\n",
       "      <td>No Llores Más</td>\n",
       "      <td>No Llores Más</td>\n",
       "      <td>BRUM72003904</td>\n",
       "      <td>35573248-4e49-47c7-af80-08a960fa74cd</td>\n",
       "    </tr>\n",
       "    <tr>\n",
       "      <th>4</th>\n",
       "      <td>click</td>\n",
       "      <td>2021-08-21</td>\n",
       "      <td>Maldives</td>\n",
       "      <td>Malé</td>\n",
       "      <td>Tesher</td>\n",
       "      <td>Jalebi Baby</td>\n",
       "      <td>Jalebi Baby</td>\n",
       "      <td>QZNWQ2070741</td>\n",
       "      <td>2d896d31-97b6-4869-967b-1c5fb9cd4bb8</td>\n",
       "    </tr>\n",
       "  </tbody>\n",
       "</table>\n",
       "</div>"
      ],
      "text/plain": [
       "   event        date       country      city  \\\n",
       "0  click  2021-08-21  Saudi Arabia    Jeddah   \n",
       "1  click  2021-08-21  Saudi Arabia    Jeddah   \n",
       "2  click  2021-08-21         India  Ludhiana   \n",
       "3  click  2021-08-21        France   Unknown   \n",
       "4  click  2021-08-21      Maldives      Malé   \n",
       "\n",
       "                              artist          album          track  \\\n",
       "0                             Tesher    Jalebi Baby    Jalebi Baby   \n",
       "1                             Tesher    Jalebi Baby    Jalebi Baby   \n",
       "2                      Reyanna Maria      So Pretty      So Pretty   \n",
       "3  Simone & Simaria, Sebastian Yatra  No Llores Más  No Llores Más   \n",
       "4                             Tesher    Jalebi Baby    Jalebi Baby   \n",
       "\n",
       "           isrc                                linkid  \n",
       "0  QZNWQ2070741  2d896d31-97b6-4869-967b-1c5fb9cd4bb8  \n",
       "1  QZNWQ2070741  2d896d31-97b6-4869-967b-1c5fb9cd4bb8  \n",
       "2  USUM72100871  23199824-9cf5-4b98-942a-34965c3b0cc2  \n",
       "3  BRUM72003904  35573248-4e49-47c7-af80-08a960fa74cd  \n",
       "4  QZNWQ2070741  2d896d31-97b6-4869-967b-1c5fb9cd4bb8  "
      ]
     },
     "execution_count": 3,
     "metadata": {},
     "output_type": "execute_result"
    }
   ],
   "source": [
    "df.head(5)"
   ]
  },
  {
   "cell_type": "markdown",
   "id": "da889e3d-1700-4215-9e23-a0381f947616",
   "metadata": {},
   "source": [
    "# Shape of the Dataset"
   ]
  },
  {
   "cell_type": "code",
   "execution_count": 4,
   "id": "ec96135b-b10e-430a-b6e5-0023870969ad",
   "metadata": {},
   "outputs": [
    {
     "name": "stdout",
     "output_type": "stream",
     "text": [
      "Dataset contains 226278 rows and 9 columns\n"
     ]
    }
   ],
   "source": [
    "print('Dataset contains', df.shape[0], 'rows and',df.shape[1],'columns')"
   ]
  },
  {
   "cell_type": "markdown",
   "id": "80adb784-1fb9-4361-aef5-a181ea01f5b1",
   "metadata": {},
   "source": [
    "# Checking Column names"
   ]
  },
  {
   "cell_type": "code",
   "execution_count": 5,
   "id": "adc6dc0f-6fd1-448e-84aa-2c747122b39d",
   "metadata": {},
   "outputs": [
    {
     "data": {
      "text/plain": [
       "Index(['event', 'date', 'country', 'city', 'artist', 'album', 'track', 'isrc',\n",
       "       'linkid'],\n",
       "      dtype='object')"
      ]
     },
     "execution_count": 5,
     "metadata": {},
     "output_type": "execute_result"
    }
   ],
   "source": [
    "df.columns"
   ]
  },
  {
   "cell_type": "raw",
   "id": "5a888b6a-b0f4-42b3-ae4e-987f7d3ec545",
   "metadata": {},
   "source": [
    "• Column names are correct"
   ]
  },
  {
   "cell_type": "markdown",
   "id": "07d0f25d-e669-45ce-88b8-476e6cc6b37d",
   "metadata": {},
   "source": [
    "# Info/Datatype"
   ]
  },
  {
   "cell_type": "code",
   "execution_count": 6,
   "id": "f7f872d8-67a1-4743-86df-bd1e2ffc8bf9",
   "metadata": {},
   "outputs": [
    {
     "name": "stdout",
     "output_type": "stream",
     "text": [
      "<class 'pandas.core.frame.DataFrame'>\n",
      "RangeIndex: 226278 entries, 0 to 226277\n",
      "Data columns (total 9 columns):\n",
      " #   Column   Non-Null Count   Dtype \n",
      "---  ------   --------------   ----- \n",
      " 0   event    226278 non-null  object\n",
      " 1   date     226278 non-null  object\n",
      " 2   country  226267 non-null  object\n",
      " 3   city     226267 non-null  object\n",
      " 4   artist   226241 non-null  object\n",
      " 5   album    226273 non-null  object\n",
      " 6   track    226273 non-null  object\n",
      " 7   isrc     219157 non-null  object\n",
      " 8   linkid   226278 non-null  object\n",
      "dtypes: object(9)\n",
      "memory usage: 15.5+ MB\n"
     ]
    }
   ],
   "source": [
    "df.info()"
   ]
  },
  {
   "cell_type": "raw",
   "id": "e9d75599-6c78-46d0-8487-a8947d479e3d",
   "metadata": {},
   "source": [
    "• In the dataset there are some missing values.\n",
    "• Date column's datatye is incorrect."
   ]
  },
  {
   "cell_type": "markdown",
   "id": "3eb9fa7b-9595-40c5-802a-b1a44f00d00c",
   "metadata": {},
   "source": [
    "### Correcting Datatype of Date Column"
   ]
  },
  {
   "cell_type": "code",
   "execution_count": 7,
   "id": "699f9cc9-124d-4ec3-8eb2-3ddd5b779bed",
   "metadata": {},
   "outputs": [],
   "source": [
    "df['date'] = pd.to_datetime(df['date'])"
   ]
  },
  {
   "cell_type": "markdown",
   "id": "5066f9b6-c0fd-4e17-9c0f-82405aa1e963",
   "metadata": {},
   "source": [
    "# Again checking datatype"
   ]
  },
  {
   "cell_type": "code",
   "execution_count": 8,
   "id": "76538416-a2d9-4726-a093-90cb07d655b7",
   "metadata": {},
   "outputs": [
    {
     "name": "stdout",
     "output_type": "stream",
     "text": [
      "<class 'pandas.core.frame.DataFrame'>\n",
      "RangeIndex: 226278 entries, 0 to 226277\n",
      "Data columns (total 9 columns):\n",
      " #   Column   Non-Null Count   Dtype         \n",
      "---  ------   --------------   -----         \n",
      " 0   event    226278 non-null  object        \n",
      " 1   date     226278 non-null  datetime64[ns]\n",
      " 2   country  226267 non-null  object        \n",
      " 3   city     226267 non-null  object        \n",
      " 4   artist   226241 non-null  object        \n",
      " 5   album    226273 non-null  object        \n",
      " 6   track    226273 non-null  object        \n",
      " 7   isrc     219157 non-null  object        \n",
      " 8   linkid   226278 non-null  object        \n",
      "dtypes: datetime64[ns](1), object(8)\n",
      "memory usage: 15.5+ MB\n"
     ]
    }
   ],
   "source": [
    "df.info()"
   ]
  },
  {
   "cell_type": "raw",
   "id": "c0d9590e-efcb-4151-801d-5016d5dccec3",
   "metadata": {},
   "source": [
    "• Now column's datatype is corrected."
   ]
  },
  {
   "cell_type": "markdown",
   "id": "e631f852-33a9-47f1-8c1f-c2e78af2ca8e",
   "metadata": {},
   "source": [
    "# 5 point summary/ describing the dataset"
   ]
  },
  {
   "cell_type": "code",
   "execution_count": 9,
   "id": "890bd723-6b69-4068-9705-07686dccc83f",
   "metadata": {},
   "outputs": [
    {
     "data": {
      "text/html": [
       "<div>\n",
       "<style scoped>\n",
       "    .dataframe tbody tr th:only-of-type {\n",
       "        vertical-align: middle;\n",
       "    }\n",
       "\n",
       "    .dataframe tbody tr th {\n",
       "        vertical-align: top;\n",
       "    }\n",
       "\n",
       "    .dataframe thead th {\n",
       "        text-align: right;\n",
       "    }\n",
       "</style>\n",
       "<table border=\"1\" class=\"dataframe\">\n",
       "  <thead>\n",
       "    <tr style=\"text-align: right;\">\n",
       "      <th></th>\n",
       "      <th>count</th>\n",
       "      <th>mean</th>\n",
       "      <th>min</th>\n",
       "      <th>25%</th>\n",
       "      <th>50%</th>\n",
       "      <th>75%</th>\n",
       "      <th>max</th>\n",
       "    </tr>\n",
       "  </thead>\n",
       "  <tbody>\n",
       "    <tr>\n",
       "      <th>date</th>\n",
       "      <td>226278</td>\n",
       "      <td>2021-08-21 21:04:31.768355584</td>\n",
       "      <td>2021-08-19 00:00:00</td>\n",
       "      <td>2021-08-20 00:00:00</td>\n",
       "      <td>2021-08-22 00:00:00</td>\n",
       "      <td>2021-08-24 00:00:00</td>\n",
       "      <td>2021-08-25 00:00:00</td>\n",
       "    </tr>\n",
       "  </tbody>\n",
       "</table>\n",
       "</div>"
      ],
      "text/plain": [
       "       count                           mean                  min  \\\n",
       "date  226278  2021-08-21 21:04:31.768355584  2021-08-19 00:00:00   \n",
       "\n",
       "                      25%                  50%                  75%  \\\n",
       "date  2021-08-20 00:00:00  2021-08-22 00:00:00  2021-08-24 00:00:00   \n",
       "\n",
       "                      max  \n",
       "date  2021-08-25 00:00:00  "
      ]
     },
     "execution_count": 9,
     "metadata": {},
     "output_type": "execute_result"
    }
   ],
   "source": [
    "df.describe().T"
   ]
  },
  {
   "cell_type": "code",
   "execution_count": 10,
   "id": "b446f5b3-9bc2-4cc9-b1a2-0128802f0f78",
   "metadata": {},
   "outputs": [
    {
     "data": {
      "text/html": [
       "<div>\n",
       "<style scoped>\n",
       "    .dataframe tbody tr th:only-of-type {\n",
       "        vertical-align: middle;\n",
       "    }\n",
       "\n",
       "    .dataframe tbody tr th {\n",
       "        vertical-align: top;\n",
       "    }\n",
       "\n",
       "    .dataframe thead th {\n",
       "        text-align: right;\n",
       "    }\n",
       "</style>\n",
       "<table border=\"1\" class=\"dataframe\">\n",
       "  <thead>\n",
       "    <tr style=\"text-align: right;\">\n",
       "      <th></th>\n",
       "      <th>count</th>\n",
       "      <th>unique</th>\n",
       "      <th>top</th>\n",
       "      <th>freq</th>\n",
       "    </tr>\n",
       "  </thead>\n",
       "  <tbody>\n",
       "    <tr>\n",
       "      <th>event</th>\n",
       "      <td>226278</td>\n",
       "      <td>3</td>\n",
       "      <td>pageview</td>\n",
       "      <td>142015</td>\n",
       "    </tr>\n",
       "    <tr>\n",
       "      <th>country</th>\n",
       "      <td>226267</td>\n",
       "      <td>211</td>\n",
       "      <td>Saudi Arabia</td>\n",
       "      <td>47334</td>\n",
       "    </tr>\n",
       "    <tr>\n",
       "      <th>city</th>\n",
       "      <td>226267</td>\n",
       "      <td>11993</td>\n",
       "      <td>Jeddah</td>\n",
       "      <td>22791</td>\n",
       "    </tr>\n",
       "    <tr>\n",
       "      <th>artist</th>\n",
       "      <td>226241</td>\n",
       "      <td>2419</td>\n",
       "      <td>Tesher</td>\n",
       "      <td>40841</td>\n",
       "    </tr>\n",
       "    <tr>\n",
       "      <th>album</th>\n",
       "      <td>226273</td>\n",
       "      <td>3254</td>\n",
       "      <td>Jalebi Baby</td>\n",
       "      <td>40841</td>\n",
       "    </tr>\n",
       "    <tr>\n",
       "      <th>track</th>\n",
       "      <td>226273</td>\n",
       "      <td>3562</td>\n",
       "      <td>Jalebi Baby</td>\n",
       "      <td>40841</td>\n",
       "    </tr>\n",
       "    <tr>\n",
       "      <th>isrc</th>\n",
       "      <td>219157</td>\n",
       "      <td>709</td>\n",
       "      <td>QZNWQ2070741</td>\n",
       "      <td>40841</td>\n",
       "    </tr>\n",
       "    <tr>\n",
       "      <th>linkid</th>\n",
       "      <td>226278</td>\n",
       "      <td>3839</td>\n",
       "      <td>2d896d31-97b6-4869-967b-1c5fb9cd4bb8</td>\n",
       "      <td>40841</td>\n",
       "    </tr>\n",
       "  </tbody>\n",
       "</table>\n",
       "</div>"
      ],
      "text/plain": [
       "          count unique                                   top    freq\n",
       "event    226278      3                              pageview  142015\n",
       "country  226267    211                          Saudi Arabia   47334\n",
       "city     226267  11993                                Jeddah   22791\n",
       "artist   226241   2419                                Tesher   40841\n",
       "album    226273   3254                           Jalebi Baby   40841\n",
       "track    226273   3562                           Jalebi Baby   40841\n",
       "isrc     219157    709                          QZNWQ2070741   40841\n",
       "linkid   226278   3839  2d896d31-97b6-4869-967b-1c5fb9cd4bb8   40841"
      ]
     },
     "execution_count": 10,
     "metadata": {},
     "output_type": "execute_result"
    }
   ],
   "source": [
    "df.describe(include = 'object').T"
   ]
  },
  {
   "cell_type": "markdown",
   "id": "e8fc2137-ae78-4376-b113-38096f4e2dba",
   "metadata": {},
   "source": [
    "# Checking descripecies for the catagorical columns"
   ]
  },
  {
   "cell_type": "code",
   "execution_count": 11,
   "id": "922efca1-7f0f-45d9-b5e0-0c34606c1959",
   "metadata": {},
   "outputs": [],
   "source": [
    "catagorical_columns = df.select_dtypes(include = 'object')"
   ]
  },
  {
   "cell_type": "code",
   "execution_count": 12,
   "id": "d1faf1e3-4f1f-4b3a-93f4-22c75c576cd1",
   "metadata": {},
   "outputs": [
    {
     "name": "stdout",
     "output_type": "stream",
     "text": [
      "event\n",
      "\n",
      "\n",
      "event\n",
      "pageview    142015\n",
      "click        55732\n",
      "preview      28531\n",
      "Name: count, dtype: int64\n",
      "\n",
      "\n",
      "country\n",
      "\n",
      "\n",
      "country\n",
      "Saudi Arabia     47334\n",
      "India            42992\n",
      "United States    32558\n",
      "France           15661\n",
      "Iraq              8260\n",
      "                 ...  \n",
      "Samoa                2\n",
      "Macao                2\n",
      "Afghanistan          2\n",
      "Lesotho              1\n",
      "Sint Maarten         1\n",
      "Name: count, Length: 211, dtype: int64\n",
      "\n",
      "\n",
      "city\n",
      "\n",
      "\n",
      "city\n",
      "Jeddah       22791\n",
      "Riyadh       17454\n",
      "Unknown      16661\n",
      "Hyderabad     3682\n",
      "Dammam        3276\n",
      "             ...  \n",
      "Rimpar           1\n",
      "Limón            1\n",
      "Peaule           1\n",
      "Wantage          1\n",
      "Soumagne         1\n",
      "Name: count, Length: 11993, dtype: int64\n",
      "\n",
      "\n",
      "artist\n",
      "\n",
      "\n",
      "artist\n",
      "Tesher                                                          40841\n",
      "Anne-Marie                                                      10650\n",
      "Tundra Beats                                                     9751\n",
      "Surf Mesa, Emilee                                                7533\n",
      "DMNDS, Strange Fruits Music, Fallen Roses, Lujavo, Nito-Onna     5512\n",
      "                                                                ...  \n",
      "Sterl Gotti                                                         1\n",
      "Alix Page                                                           1\n",
      "Mariah Angeliq                                                      1\n",
      "Kuttem Reese                                                        1\n",
      "Kiiara                                                              1\n",
      "Name: count, Length: 2419, dtype: int64\n",
      "\n",
      "\n",
      "album\n",
      "\n",
      "\n",
      "album\n",
      "Jalebi Baby                             40841\n",
      "Beautiful                               10649\n",
      "Beautiful Day                            9750\n",
      "ily (i love you baby) (feat. Emilee)     7533\n",
      "The Massacre                             5984\n",
      "                                        ...  \n",
      "Out The Mud                                 1\n",
      "Demonstrate                                 1\n",
      "Contigo                                     1\n",
      "Arcade (feat. FLETCHER)                     1\n",
      "low kii savage                              1\n",
      "Name: count, Length: 3254, dtype: int64\n",
      "\n",
      "\n",
      "track\n",
      "\n",
      "\n",
      "track\n",
      "Jalebi Baby                             40841\n",
      "Beautiful                               10658\n",
      "Beautiful Day                            9751\n",
      "ily (i love you baby) (feat. Emilee)     7533\n",
      "So Pretty                                5664\n",
      "                                        ...  \n",
      "Wish You Were Sober                         1\n",
      "Ando Bien                                   1\n",
      "4U                                          1\n",
      "Fit In                                      1\n",
      "Gold                                        1\n",
      "Name: count, Length: 3562, dtype: int64\n",
      "\n",
      "\n",
      "isrc\n",
      "\n",
      "\n",
      "isrc\n",
      "QZNWQ2070741    40841\n",
      "GBAHS2100225    10649\n",
      "QZHN92194591     9750\n",
      "QZJRC1945204     7524\n",
      "GBSMU9833211     5512\n",
      "                ...  \n",
      "QM24S2104798        1\n",
      "USAT22102351        1\n",
      "QZ93L2106845        1\n",
      "QZAKB2014922        1\n",
      "USWL12100113        1\n",
      "Name: count, Length: 709, dtype: int64\n",
      "\n",
      "\n",
      "linkid\n",
      "\n",
      "\n",
      "linkid\n",
      "2d896d31-97b6-4869-967b-1c5fb9cd4bb8    40841\n",
      "522da5cc-8177-4140-97a7-a84fdb4caf1c    10314\n",
      "e849515b-929d-44c8-a505-e7622f1827e9     9750\n",
      "c2c876ab-b093-4750-9449-6b4913da6af3     6733\n",
      "681d888a-59ce-4acb-b7c5-95dab0c063d9     5512\n",
      "                                        ...  \n",
      "edd9aa8c-f71c-5d3e-8a4c-4a2a18497591        1\n",
      "ff1ec49a-c80e-5bd3-aee3-ac51992b2b63        1\n",
      "7e614c15-2b7f-5155-b27d-fe0b3a849eb4        1\n",
      "e1d532fe-393a-5ecd-9bd0-fbf210af1443        1\n",
      "ac33e71b-209d-5503-a276-14ca46372a81        1\n",
      "Name: count, Length: 3839, dtype: int64\n",
      "\n",
      "\n"
     ]
    }
   ],
   "source": [
    "for i in catagorical_columns:\n",
    "    print(i)\n",
    "    print('\\n')\n",
    "    print(df[i].value_counts())\n",
    "    print('\\n')"
   ]
  },
  {
   "cell_type": "raw",
   "id": "ee4db75c-d7a0-4d09-bde7-805c40a35db4",
   "metadata": {},
   "source": [
    "• There are no descripencies in the dataset"
   ]
  },
  {
   "cell_type": "markdown",
   "id": "0886e8f0-5a48-4ad4-ae11-a2fbc05d0bae",
   "metadata": {},
   "source": [
    "# Checking missing values "
   ]
  },
  {
   "cell_type": "code",
   "execution_count": 13,
   "id": "a6f55de0-62bc-4a36-ac9a-02284c881b42",
   "metadata": {},
   "outputs": [
    {
     "data": {
      "text/plain": [
       "event         0\n",
       "date          0\n",
       "country      11\n",
       "city         11\n",
       "artist       37\n",
       "album         5\n",
       "track         5\n",
       "isrc       7121\n",
       "linkid        0\n",
       "dtype: int64"
      ]
     },
     "execution_count": 13,
     "metadata": {},
     "output_type": "execute_result"
    }
   ],
   "source": [
    "df.isna().sum()"
   ]
  },
  {
   "cell_type": "raw",
   "id": "7e4acf59-5b8a-4c8d-aa9c-1ad87072c98c",
   "metadata": {},
   "source": [
    "• country column contains 11 null values\n",
    "• city column contains 11 null values\n",
    "• artist column contains 37 null values \n",
    "• album column contain 5 null values\n",
    "• track column contains 5 null vlaues \n",
    "• isrc column contains 7121 null values"
   ]
  },
  {
   "cell_type": "markdown",
   "id": "e1a3a1fb-2df0-4e96-b964-dcf9c23d1f82",
   "metadata": {},
   "source": [
    "# Percentage of missing values "
   ]
  },
  {
   "cell_type": "code",
   "execution_count": 14,
   "id": "ffc67fda-4a43-42b3-9b47-7279c326c7c2",
   "metadata": {},
   "outputs": [
    {
     "data": {
      "text/plain": [
       "event      0.000000\n",
       "date       0.000000\n",
       "country    0.004861\n",
       "city       0.004861\n",
       "artist     0.016352\n",
       "album      0.002210\n",
       "track      0.002210\n",
       "isrc       3.147014\n",
       "linkid     0.000000\n",
       "dtype: float64"
      ]
     },
     "execution_count": 14,
     "metadata": {},
     "output_type": "execute_result"
    }
   ],
   "source": [
    "df.isna().sum()/len(df)*100"
   ]
  },
  {
   "cell_type": "raw",
   "id": "5148f04a-75ac-44d4-a63c-f97001fa8787",
   "metadata": {},
   "source": [
    "• Percentage is less than 5 % so we can decide to drop these null values`"
   ]
  },
  {
   "cell_type": "code",
   "execution_count": 15,
   "id": "5d2b700b-63c0-48af-a568-d07a4865fbfd",
   "metadata": {},
   "outputs": [],
   "source": [
    "df.dropna(inplace = True)"
   ]
  },
  {
   "cell_type": "code",
   "execution_count": 16,
   "id": "bf404490-0a70-4687-9977-2eca22783a64",
   "metadata": {},
   "outputs": [
    {
     "data": {
      "text/plain": [
       "event      0\n",
       "date       0\n",
       "country    0\n",
       "city       0\n",
       "artist     0\n",
       "album      0\n",
       "track      0\n",
       "isrc       0\n",
       "linkid     0\n",
       "dtype: int64"
      ]
     },
     "execution_count": 16,
     "metadata": {},
     "output_type": "execute_result"
    }
   ],
   "source": [
    "df.isna().sum()"
   ]
  },
  {
   "cell_type": "raw",
   "id": "72376f44-c029-4dd9-bd37-a23c36e01708",
   "metadata": {},
   "source": [
    "• Null Values are dropped "
   ]
  },
  {
   "cell_type": "markdown",
   "id": "019db8e7-7ba9-4470-928d-caeafc627ec2",
   "metadata": {},
   "source": [
    "# Frequency of the columns"
   ]
  },
  {
   "cell_type": "code",
   "execution_count": 17,
   "id": "e7544b15-1297-40d7-abf9-9b879750b7f2",
   "metadata": {},
   "outputs": [
    {
     "data": {
      "text/plain": [
       "event\n",
       "pageview    137115\n",
       "click        53504\n",
       "preview      28530\n",
       "Name: count, dtype: int64"
      ]
     },
     "execution_count": 17,
     "metadata": {},
     "output_type": "execute_result"
    }
   ],
   "source": [
    "df.event.value_counts() "
   ]
  },
  {
   "cell_type": "code",
   "execution_count": 18,
   "id": "e1ca8d71-c5be-46b0-b9d1-6969f3f9e98d",
   "metadata": {},
   "outputs": [
    {
     "data": {
      "text/plain": [
       "country\n",
       "Saudi Arabia                46960\n",
       "India                       42991\n",
       "United States               27355\n",
       "France                      15638\n",
       "Iraq                         8168\n",
       "                            ...  \n",
       "Central African Republic        2\n",
       "Saint Martin                    2\n",
       "Wallis and Futuna               2\n",
       "Lesotho                         1\n",
       "Sint Maarten                    1\n",
       "Name: count, Length: 211, dtype: int64"
      ]
     },
     "execution_count": 18,
     "metadata": {},
     "output_type": "execute_result"
    }
   ],
   "source": [
    "df.country.value_counts()"
   ]
  },
  {
   "cell_type": "code",
   "execution_count": 19,
   "id": "a1f29406-6d8c-4d36-9092-633c3af61269",
   "metadata": {},
   "outputs": [
    {
     "data": {
      "text/plain": [
       "city\n",
       "Jeddah       22588\n",
       "Riyadh       17341\n",
       "Unknown      16092\n",
       "Hyderabad     3682\n",
       "Dammam        3242\n",
       "             ...  \n",
       "Peaule           1\n",
       "Wantage          1\n",
       "Freiberg         1\n",
       "Xining           1\n",
       "Soumagne         1\n",
       "Name: count, Length: 11690, dtype: int64"
      ]
     },
     "execution_count": 19,
     "metadata": {},
     "output_type": "execute_result"
    }
   ],
   "source": [
    "df.city.value_counts()"
   ]
  },
  {
   "cell_type": "code",
   "execution_count": 20,
   "id": "7f44c7d8-b1dc-4f56-a78b-1decd9e3b8a0",
   "metadata": {},
   "outputs": [
    {
     "data": {
      "text/plain": [
       "artist\n",
       "Tesher                                                          40841\n",
       "Anne-Marie                                                      10649\n",
       "Tundra Beats                                                     9750\n",
       "Surf Mesa, Emilee                                                7524\n",
       "DMNDS, Strange Fruits Music, Fallen Roses, Lujavo, Nito-Onna     5512\n",
       "                                                                ...  \n",
       "JELEEL!                                                             1\n",
       "jxdn                                                                1\n",
       "marinelli                                                           1\n",
       "Lexi Jayde                                                          1\n",
       "Danny Ocean, Justin Quiles                                          1\n",
       "Name: count, Length: 590, dtype: int64"
      ]
     },
     "execution_count": 20,
     "metadata": {},
     "output_type": "execute_result"
    }
   ],
   "source": [
    "df.artist.value_counts()"
   ]
  },
  {
   "cell_type": "code",
   "execution_count": 21,
   "id": "547fd1cd-96cf-4e8f-826f-4edaddb7378e",
   "metadata": {},
   "outputs": [
    {
     "data": {
      "text/plain": [
       "album\n",
       "Jalebi Baby                             40841\n",
       "Beautiful                               10649\n",
       "Beautiful Day                            9750\n",
       "ily (i love you baby) (feat. Emilee)     7524\n",
       "The Massacre                             5984\n",
       "                                        ...  \n",
       "THINK ABOUT ME                              1\n",
       "OH GOD                                      1\n",
       "Newbury Park                                1\n",
       "Atlas                                       1\n",
       "Cuántas veces                               1\n",
       "Name: count, Length: 676, dtype: int64"
      ]
     },
     "execution_count": 21,
     "metadata": {},
     "output_type": "execute_result"
    }
   ],
   "source": [
    "df.album.value_counts()"
   ]
  },
  {
   "cell_type": "code",
   "execution_count": 22,
   "id": "e61ec035-eeae-46cf-90a8-0de1bfa13b83",
   "metadata": {},
   "outputs": [
    {
     "data": {
      "text/plain": [
       "track\n",
       "Jalebi Baby                             40841\n",
       "Beautiful                               10658\n",
       "Beautiful Day                            9750\n",
       "ily (i love you baby) (feat. Emilee)     7524\n",
       "So Pretty                                5661\n",
       "                                        ...  \n",
       "JELEEL JUICE!                               1\n",
       "THINK ABOUT ME                              1\n",
       "OH GOD                                      1\n",
       "Newbury Park                                1\n",
       "Cuántas veces                               1\n",
       "Name: count, Length: 693, dtype: int64"
      ]
     },
     "execution_count": 22,
     "metadata": {},
     "output_type": "execute_result"
    }
   ],
   "source": [
    "df.track.value_counts()"
   ]
  },
  {
   "cell_type": "markdown",
   "id": "a62aac14-5f16-4562-8bb7-378b7ccb19aa",
   "metadata": {},
   "source": [
    "# Checking Duplicate Values"
   ]
  },
  {
   "cell_type": "code",
   "execution_count": 23,
   "id": "79ea4ca8-e190-4ab2-9608-8e5268dd6db6",
   "metadata": {},
   "outputs": [
    {
     "name": "stdout",
     "output_type": "stream",
     "text": [
      "Dataframe contains 102892 duplicate values\n"
     ]
    }
   ],
   "source": [
    "print('Dataframe contains',df.duplicated().sum(),'duplicate values')"
   ]
  },
  {
   "cell_type": "markdown",
   "id": "8c7a868b-7928-411e-8a3e-a1e04d2001f0",
   "metadata": {},
   "source": [
    "# Removing Duplicate Values"
   ]
  },
  {
   "cell_type": "code",
   "execution_count": 24,
   "id": "8ab61cbf-3467-481d-88de-2f1baeb51526",
   "metadata": {},
   "outputs": [],
   "source": [
    "df.drop_duplicates(inplace = True)"
   ]
  },
  {
   "cell_type": "markdown",
   "id": "3e838512-4028-44e4-9885-807846509cf7",
   "metadata": {},
   "source": [
    "# Again Checking Duplicate Values"
   ]
  },
  {
   "cell_type": "code",
   "execution_count": 25,
   "id": "660a75ec-0a14-409f-a18d-2298cd95f51d",
   "metadata": {},
   "outputs": [
    {
     "name": "stdout",
     "output_type": "stream",
     "text": [
      "Dataframe contains 0 duplicate values\n"
     ]
    }
   ],
   "source": [
    "print('Dataframe contains',df.duplicated().sum(),'duplicate values')"
   ]
  },
  {
   "cell_type": "raw",
   "id": "92df2612-aba3-4883-a499-362ec098b87b",
   "metadata": {},
   "source": [
    "• All Duplicate values are dropped"
   ]
  },
  {
   "cell_type": "markdown",
   "id": "1d1956aa-5721-4d51-8d67-e9a31d072f7b",
   "metadata": {},
   "source": [
    "# Visualization"
   ]
  },
  {
   "cell_type": "markdown",
   "id": "152b593f-1014-45e2-ac11-cef632059b76",
   "metadata": {},
   "source": [
    "# Univariate Analysis"
   ]
  },
  {
   "cell_type": "markdown",
   "id": "72d8205f-ba20-4a58-b7b7-69fbf9365f82",
   "metadata": {},
   "source": [
    "## Event Type Frequency"
   ]
  },
  {
   "cell_type": "code",
   "execution_count": 26,
   "id": "2cb74320-c7a3-46d1-99de-0166b2a00683",
   "metadata": {},
   "outputs": [
    {
     "data": {
      "image/png": "[encoded data removed]",
      "text/plain": [
       "<Figure size 800x400 with 1 Axes>"
      ]
     },
     "metadata": {},
     "output_type": "display_data"
    }
   ],
   "source": [
    "plt.figure(figsize=(8, 4))\n",
    "df['event'].value_counts().plot(kind='bar', color='blue')\n",
    "plt.title('Event Type Frequency')\n",
    "plt.xlabel('Event')\n",
    "plt.ylabel('Count')\n",
    "plt.xticks(rotation=45)\n",
    "plt.tight_layout()\n",
    "plt.show()"
   ]
  },
  {
   "cell_type": "markdown",
   "id": "85b9008d-ce15-457a-a112-58ad8ed563cb",
   "metadata": {},
   "source": [
    "## Top 10 Countries by Event Count"
   ]
  },
  {
   "cell_type": "code",
   "execution_count": 27,
   "id": "dcffc550-9cdc-448b-affb-4f1f04e78c63",
   "metadata": {},
   "outputs": [
    {
     "data": {
      "image/png": "[encoded data removed]",
      "text/plain": [
       "<Figure size 800x400 with 1 Axes>"
      ]
     },
     "metadata": {},
     "output_type": "display_data"
    }
   ],
   "source": [
    "plt.figure(figsize=(8, 4))\n",
    "df['country'].value_counts().head(10).plot(kind='bar', color='green')\n",
    "plt.title('Top 10 Countries by Event Count')\n",
    "plt.xlabel('Country')\n",
    "plt.ylabel('Count')\n",
    "plt.xticks(rotation=45)\n",
    "plt.tight_layout()\n",
    "plt.show()"
   ]
  },
  {
   "cell_type": "markdown",
   "id": "9282a97f-5a0c-42db-a277-b2c437d656e7",
   "metadata": {},
   "source": [
    "## Top 10 Artists"
   ]
  },
  {
   "cell_type": "code",
   "execution_count": 28,
   "id": "e503a15a-29df-452c-9568-1fa0f4dd8a43",
   "metadata": {},
   "outputs": [
    {
     "data": {
      "image/png": "[encoded data removed]",
      "text/plain": [
       "<Figure size 1000x700 with 1 Axes>"
      ]
     },
     "metadata": {},
     "output_type": "display_data"
    }
   ],
   "source": [
    "plt.figure(figsize=(10, 7))\n",
    "df['artist'].value_counts().head(10).plot(kind='bar', color='green')\n",
    "plt.title('Top 10 Artists')\n",
    "plt.xlabel('Artist')\n",
    "plt.ylabel('Count')\n",
    "plt.xticks(rotation=30)\n",
    "plt.tight_layout()\n",
    "plt.show()"
   ]
  },
  {
   "cell_type": "markdown",
   "id": "8ae205d7-985c-4479-9bee-102decb8321c",
   "metadata": {},
   "source": [
    "# Bivariate Analysis"
   ]
  },
  {
   "cell_type": "markdown",
   "id": "d8bde3c2-611f-41b5-ab81-fd6eb9ed206e",
   "metadata": {},
   "source": [
    "## Event Type by Country (Top 5 Countries)"
   ]
  },
  {
   "cell_type": "code",
   "execution_count": 29,
   "id": "454ded79-75bc-4f85-a9d2-95a37b45dfc8",
   "metadata": {},
   "outputs": [
    {
     "data": {
      "image/png": "[encoded data removed]",
      "text/plain": [
       "<Figure size 1000x600 with 1 Axes>"
      ]
     },
     "metadata": {},
     "output_type": "display_data"
    }
   ],
   "source": [
    "top_countries = df['country'].value_counts().head(5).index\n",
    "plt.figure(figsize=(10, 6))\n",
    "sns.countplot(data=df[df['country'].isin(top_countries)], x='country', hue='event')\n",
    "plt.title('Event Type Distribution by Country')\n",
    "plt.xlabel('Country')\n",
    "plt.ylabel('Count')\n",
    "plt.legend(title='Event')\n",
    "plt.tight_layout()\n",
    "plt.show()"
   ]
  },
  {
   "cell_type": "markdown",
   "id": "203d06af-68ac-4c1e-8c68-9b39996c6344",
   "metadata": {},
   "source": [
    "##  Monthly Trend of Events"
   ]
  },
  {
   "cell_type": "code",
   "execution_count": 30,
   "id": "10520a25-3583-4cc9-9961-4b8699ae5fc8",
   "metadata": {},
   "outputs": [
    {
     "ename": "KeyError",
     "evalue": "'month'",
     "output_type": "error",
     "traceback": [
      "\u001b[1;31m---------------------------------------------------------------------------\u001b[0m",
      "\u001b[1;31mKeyError\u001b[0m                                  Traceback (most recent call last)",
      "File \u001b[1;32mC:\\ProgramData\\anaconda3\\Lib\\site-packages\\pandas\\core\\indexes\\base.py:3805\u001b[0m, in \u001b[0;36mIndex.get_loc\u001b[1;34m(self, key)\u001b[0m\n\u001b[0;32m   3804\u001b[0m \u001b[38;5;28;01mtry\u001b[39;00m:\n\u001b[1;32m-> 3805\u001b[0m     \u001b[38;5;28;01mreturn\u001b[39;00m \u001b[38;5;28mself\u001b[39m\u001b[38;5;241m.\u001b[39m_engine\u001b[38;5;241m.\u001b[39mget_loc(casted_key)\n\u001b[0;32m   3806\u001b[0m \u001b[38;5;28;01mexcept\u001b[39;00m \u001b[38;5;167;01mKeyError\u001b[39;00m \u001b[38;5;28;01mas\u001b[39;00m err:\n",
      "File \u001b[1;32mindex.pyx:167\u001b[0m, in \u001b[0;36mpandas._libs.index.IndexEngine.get_loc\u001b[1;34m()\u001b[0m\n",
      "File \u001b[1;32mindex.pyx:196\u001b[0m, in \u001b[0;36mpandas._libs.index.IndexEngine.get_loc\u001b[1;34m()\u001b[0m\n",
      "File \u001b[1;32mpandas\\\\_libs\\\\hashtable_class_helper.pxi:7081\u001b[0m, in \u001b[0;36mpandas._libs.hashtable.PyObjectHashTable.get_item\u001b[1;34m()\u001b[0m\n",
      "File \u001b[1;32mpandas\\\\_libs\\\\hashtable_class_helper.pxi:7089\u001b[0m, in \u001b[0;36mpandas._libs.hashtable.PyObjectHashTable.get_item\u001b[1;34m()\u001b[0m\n",
      "\u001b[1;31mKeyError\u001b[0m: 'month'",
      "\nThe above exception was the direct cause of the following exception:\n",
      "\u001b[1;31mKeyError\u001b[0m                                  Traceback (most recent call last)",
      "Cell \u001b[1;32mIn[30], line 2\u001b[0m\n\u001b[0;32m      1\u001b[0m plt\u001b[38;5;241m.\u001b[39mfigure(figsize\u001b[38;5;241m=\u001b[39m(\u001b[38;5;241m10\u001b[39m, \u001b[38;5;241m4\u001b[39m))\n\u001b[1;32m----> 2\u001b[0m sns\u001b[38;5;241m.\u001b[39mcountplot(data\u001b[38;5;241m=\u001b[39mdf, x\u001b[38;5;241m=\u001b[39m\u001b[38;5;124m'\u001b[39m\u001b[38;5;124mmonth\u001b[39m\u001b[38;5;124m'\u001b[39m, order\u001b[38;5;241m=\u001b[39m\u001b[38;5;28msorted\u001b[39m(df[\u001b[38;5;124m'\u001b[39m\u001b[38;5;124mmonth\u001b[39m\u001b[38;5;124m'\u001b[39m]\u001b[38;5;241m.\u001b[39mdropna()\u001b[38;5;241m.\u001b[39munique()))\n\u001b[0;32m      3\u001b[0m plt\u001b[38;5;241m.\u001b[39mtitle(\u001b[38;5;124m'\u001b[39m\u001b[38;5;124mMonthly Event Distribution\u001b[39m\u001b[38;5;124m'\u001b[39m)\n\u001b[0;32m      4\u001b[0m plt\u001b[38;5;241m.\u001b[39mxlabel(\u001b[38;5;124m'\u001b[39m\u001b[38;5;124mMonth\u001b[39m\u001b[38;5;124m'\u001b[39m)\n",
      "File \u001b[1;32mC:\\ProgramData\\anaconda3\\Lib\\site-packages\\pandas\\core\\frame.py:4102\u001b[0m, in \u001b[0;36mDataFrame.__getitem__\u001b[1;34m(self, key)\u001b[0m\n\u001b[0;32m   4100\u001b[0m \u001b[38;5;28;01mif\u001b[39;00m \u001b[38;5;28mself\u001b[39m\u001b[38;5;241m.\u001b[39mcolumns\u001b[38;5;241m.\u001b[39mnlevels \u001b[38;5;241m>\u001b[39m \u001b[38;5;241m1\u001b[39m:\n\u001b[0;32m   4101\u001b[0m     \u001b[38;5;28;01mreturn\u001b[39;00m \u001b[38;5;28mself\u001b[39m\u001b[38;5;241m.\u001b[39m_getitem_multilevel(key)\n\u001b[1;32m-> 4102\u001b[0m indexer \u001b[38;5;241m=\u001b[39m \u001b[38;5;28mself\u001b[39m\u001b[38;5;241m.\u001b[39mcolumns\u001b[38;5;241m.\u001b[39mget_loc(key)\n\u001b[0;32m   4103\u001b[0m \u001b[38;5;28;01mif\u001b[39;00m is_integer(indexer):\n\u001b[0;32m   4104\u001b[0m     indexer \u001b[38;5;241m=\u001b[39m [indexer]\n",
      "File \u001b[1;32mC:\\ProgramData\\anaconda3\\Lib\\site-packages\\pandas\\core\\indexes\\base.py:3812\u001b[0m, in \u001b[0;36mIndex.get_loc\u001b[1;34m(self, key)\u001b[0m\n\u001b[0;32m   3807\u001b[0m     \u001b[38;5;28;01mif\u001b[39;00m \u001b[38;5;28misinstance\u001b[39m(casted_key, \u001b[38;5;28mslice\u001b[39m) \u001b[38;5;129;01mor\u001b[39;00m (\n\u001b[0;32m   3808\u001b[0m         \u001b[38;5;28misinstance\u001b[39m(casted_key, abc\u001b[38;5;241m.\u001b[39mIterable)\n\u001b[0;32m   3809\u001b[0m         \u001b[38;5;129;01mand\u001b[39;00m \u001b[38;5;28many\u001b[39m(\u001b[38;5;28misinstance\u001b[39m(x, \u001b[38;5;28mslice\u001b[39m) \u001b[38;5;28;01mfor\u001b[39;00m x \u001b[38;5;129;01min\u001b[39;00m casted_key)\n\u001b[0;32m   3810\u001b[0m     ):\n\u001b[0;32m   3811\u001b[0m         \u001b[38;5;28;01mraise\u001b[39;00m InvalidIndexError(key)\n\u001b[1;32m-> 3812\u001b[0m     \u001b[38;5;28;01mraise\u001b[39;00m \u001b[38;5;167;01mKeyError\u001b[39;00m(key) \u001b[38;5;28;01mfrom\u001b[39;00m \u001b[38;5;21;01merr\u001b[39;00m\n\u001b[0;32m   3813\u001b[0m \u001b[38;5;28;01mexcept\u001b[39;00m \u001b[38;5;167;01mTypeError\u001b[39;00m:\n\u001b[0;32m   3814\u001b[0m     \u001b[38;5;66;03m# If we have a listlike key, _check_indexing_error will raise\u001b[39;00m\n\u001b[0;32m   3815\u001b[0m     \u001b[38;5;66;03m#  InvalidIndexError. Otherwise we fall through and re-raise\u001b[39;00m\n\u001b[0;32m   3816\u001b[0m     \u001b[38;5;66;03m#  the TypeError.\u001b[39;00m\n\u001b[0;32m   3817\u001b[0m     \u001b[38;5;28mself\u001b[39m\u001b[38;5;241m.\u001b[39m_check_indexing_error(key)\n",
      "\u001b[1;31mKeyError\u001b[0m: 'month'"
     ]
    },
    {
     "data": {
      "text/plain": [
       "<Figure size 1000x400 with 0 Axes>"
      ]
     },
     "metadata": {},
     "output_type": "display_data"
    }
   ],
   "source": [
    "plt.figure(figsize=(10, 4))\n",
    "sns.countplot(data=df, x='month', order=sorted(df['month'].dropna().unique()))\n",
    "plt.title('Monthly Event Distribution')\n",
    "plt.xlabel('Month')\n",
    "plt.ylabel('Count')\n",
    "plt.tight_layout()\n",
    "plt.show()"
   ]
  },
  {
   "cell_type": "markdown",
   "id": "abdf407b-6fa6-4aa8-a8f6-fc0737406ceb",
   "metadata": {},
   "source": [
    "## Artist vs Event Count (Top 10)"
   ]
  },
  {
   "cell_type": "code",
   "execution_count": null,
   "id": "efba3d36-9ec8-431b-bc69-dd2179f38f16",
   "metadata": {},
   "outputs": [],
   "source": [
    "top_artists = df['artist'].value_counts().head(10).index\n",
    "plt.figure(figsize=(10, 4))\n",
    "sns.countplot(data=df[df['artist'].isin(top_artists)], y='artist', hue='event')\n",
    "plt.title('Top 10 Artists by Event Type')\n",
    "plt.xlabel('Count')\n",
    "plt.ylabel('Artist')\n",
    "plt.tight_layout()\n",
    "plt.show()"
   ]
  },
  {
   "cell_type": "markdown",
   "id": "83a4bebe-5d96-4973-89af-3741cd43540f",
   "metadata": {},
   "source": [
    "## Plays Over Time"
   ]
  },
  {
   "cell_type": "code",
   "execution_count": null,
   "id": "4f045363-a706-4fcf-b447-b241303696fd",
   "metadata": {},
   "outputs": [],
   "source": [
    "df_by_date = df.groupby(df['date'].dt.date).size()\n",
    "\n",
    "plt.figure(figsize=(12,5))\n",
    "df_by_date.plot()\n",
    "plt.title(\"Events Over Time\")\n",
    "plt.xlabel(\"Date\")\n",
    "plt.ylabel(\"Number of Events\")\n",
    "plt.grid(True)\n",
    "plt.tight_layout()\n",
    "plt.show()"
   ]
  }
 ],
 "metadata": {
  "kernelspec": {
   "display_name": "Python 3 (ipykernel)",
   "language": "python",
   "name": "python3"
  },
  "language_info": {
   "codemirror_mode": {
    "name": "ipython",
    "version": 3
   },
   "file_extension": ".py",
   "mimetype": "text/x-python",
   "name": "python",
   "nbconvert_exporter": "python",
   "pygments_lexer": "ipython3",
   "version": "3.12.7"
  }
 },
 "nbformat": 4,
 "nbformat_minor": 5
}
